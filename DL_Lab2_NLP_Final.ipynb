{
 "cells": [
  {
   "cell_type": "markdown",
   "metadata": {},
   "source": [
    "# Importing packages "
   ]
  },
  {
   "cell_type": "code",
   "execution_count": 2,
   "metadata": {},
   "outputs": [
    {
     "name": "stderr",
     "output_type": "stream",
     "text": [
      "[nltk_data] Downloading package stopwords to\n",
      "[nltk_data]     /Users/joostfranssen/nltk_data...\n",
      "[nltk_data]   Package stopwords is already up-to-date!\n"
     ]
    }
   ],
   "source": [
    "import tensorflow as tf\n",
    "import pandas as pd\n",
    "from sklearn.model_selection import train_test_split\n",
    "import numpy as np\n",
    "import re\n",
    "import unicodedata\n",
    "import nltk\n",
    "nltk.download('stopwords')\n",
    "from nltk.corpus import stopwords\n",
    "from tensorflow import keras\n",
    "from tensorflow.keras.layers import Dense,Dropout, Input\n",
    "from tqdm import tqdm\n",
    "from sklearn.metrics import confusion_matrix, ConfusionMatrixDisplay, f1_score, accuracy_score, classification_report\n",
    "import matplotlib.pyplot as plt\n",
    "from sklearn.utils import shuffle\n",
    "from tensorflow.keras import regularizers\n",
    "from transformers import TFDistilBertModel, DistilBertTokenizer, DistilBertConfig,  DistilBertForSequenceClassification, TFDistilBertForSequenceClassification"
   ]
  },
  {
   "cell_type": "markdown",
   "metadata": {},
   "source": [
    "# Pre-processing of the dataset"
   ]
  },
  {
   "cell_type": "code",
   "execution_count": 3,
   "metadata": {},
   "outputs": [],
   "source": [
    "# Functions to preprocess the data\n",
    "# Stopwords, shortwords and special characters are removed \n",
    "def unicode_to_ascii(s):\n",
    "    return ''.join(c for c in unicodedata.normalize('NFD', s) if unicodedata.category(c) != 'Mn')\n",
    "\n",
    "def clean_stopwords_shortwords(w):\n",
    "    stopwords_list = stopwords.words('english')\n",
    "    words = w.split() \n",
    "    clean_words = [word for word in words if (word not in stopwords_list) and len(word) > 2]\n",
    "    return \" \".join(clean_words) \n",
    "\n",
    "def preprocess_sentence(w):\n",
    "    w = unicode_to_ascii(w.lower().strip())\n",
    "    w = re.sub(r\"([?.!,¿])\", r\" \", w)\n",
    "    w = re.sub(r'[\" \"]+', \" \", w)\n",
    "    w = re.sub(r\"[^a-zA-Z?.!,¿]+\", \" \", w)\n",
    "    w = clean_stopwords_shortwords(w)\n",
    "    w = re.sub(r'@\\w+', '',w)\n",
    "    return w"
   ]
  },
  {
   "cell_type": "code",
   "execution_count": 4,
   "metadata": {},
   "outputs": [],
   "source": [
    "# Load the training and test dataset\n",
    "TRAIN_FILE_PATH = '/Users/joostfranssen/Documents/Study/MSc_AI/Year_1/Semester_2A/Dl/Lab 2/train.csv'\n",
    "TEST_FILE_PATH = '/Users/joostfranssen/Documents/Study/MSc_AI/Year_1/Semester_2A/Dl/Lab 2/test.csv'\n",
    "\n",
    "train_data = pd.read_csv(TRAIN_FILE_PATH)\n",
    "test_data = pd.read_csv(TEST_FILE_PATH)"
   ]
  },
  {
   "cell_type": "code",
   "execution_count": 5,
   "metadata": {},
   "outputs": [
    {
     "data": {
      "text/plain": [
       "(120000, 120000)"
      ]
     },
     "execution_count": 5,
     "metadata": {},
     "output_type": "execute_result"
    }
   ],
   "source": [
    "# Concatenate the title and description and preprocess the sentences, and reduce all classes by one \n",
    "train_data['Title'] = train_data['Title'].map(preprocess_sentence)\n",
    "train_data['Description'] = train_data['Description'].map(preprocess_sentence)\n",
    "\n",
    "X_train = train_data['Title'] + \" \" + train_data['Description']\n",
    "y_train = train_data['Class Index'].apply(lambda x: x-1).values \n",
    "\n",
    "test_data['Title'] = test_data['Title'].map(preprocess_sentence)\n",
    "test_data['Description'] = test_data['Description'].map(preprocess_sentence)\n",
    "\n",
    "X_test = test_data['Title'] + \" \" + test_data['Description']\n",
    "y_test = test_data['Class Index'].apply(lambda x: x-1).values\n",
    "\n",
    "len(X_train),len(y_train)"
   ]
  },
  {
   "cell_type": "code",
   "execution_count": 6,
   "metadata": {},
   "outputs": [
    {
     "name": "stdout",
     "output_type": "stream",
     "text": [
      "biotech baggers yesterday biotech winners lead today top performers meta name keywords content charly travers rule breakers biotech eln elan imclone imcl sepracor sepr meta name tickers content nasdaq biib nasdaq imcl nasdaq sepr nyse eln nyse wye nyse bmy biib imcl sepr eln wye bmy meta name summary content meta name author content charly travers meta name date content meta name language content meta name story uid content usmf content datasource commentary centerized commentary xml meta name expiration content date months meta name articletype content investing meta name contenttype content title fool com biotech baggers commentary october title script language javascript\n",
      "\n",
      "\n",
      "17\n"
     ]
    }
   ],
   "source": [
    "longest_string = max(X_train, key=lambda x: len(x.split()))\n",
    "print(longest_string)\n",
    "print(\"\\n\")\n",
    "\n",
    "n_words = len(X_train[0].split())\n",
    "print(n_words)"
   ]
  },
  {
   "cell_type": "code",
   "execution_count": 7,
   "metadata": {},
   "outputs": [],
   "source": [
    "import statistics\n",
    "from statistics import mean, stdev"
   ]
  },
  {
   "cell_type": "code",
   "execution_count": 11,
   "metadata": {},
   "outputs": [
    {
     "name": "stdout",
     "output_type": "stream",
     "text": [
      "24.777708333333333\n",
      "6.918156805757137\n"
     ]
    },
    {
     "data": {
      "image/png": "[encoded data removed]",
      "text/plain": [
       "<Figure size 432x288 with 1 Axes>"
      ]
     },
     "metadata": {
      "needs_background": "light"
     },
     "output_type": "display_data"
    }
   ],
   "source": [
    "# Statistics about the sentences in the training data set\n",
    "length = [] \n",
    "\n",
    "for i in range(len(X_train)):\n",
    "    length.append(len(X_train[i].split()))\n",
    "\n",
    "avg = statistics.mean(length)\n",
    "std = statistics.stdev(length)\n",
    "\n",
    "\n",
    "pd.Series(length).hist(bins = 50)\n",
    "plt.title('Number of words per sentences')\n",
    "plt.xlabel('Length')\n",
    "plt.ylabel('Sentences')\n",
    "\n",
    "print(avg)\n",
    "print(std)"
   ]
  },
  {
   "cell_type": "code",
   "execution_count": 9,
   "metadata": {},
   "outputs": [
    {
     "name": "stdout",
     "output_type": "stream",
     "text": [
      "25\n"
     ]
    }
   ],
   "source": [
    "max_len = round(avg)\n",
    "print(max_len)\n",
    "\n",
    "num_classes = 4"
   ]
  },
  {
   "cell_type": "markdown",
   "metadata": {},
   "source": [
    "# Tokenize Data"
   ]
  },
  {
   "cell_type": "code",
   "execution_count": 10,
   "metadata": {},
   "outputs": [],
   "source": [
    "# Load tokinezer \n",
    "dbert_tokenizer = DistilBertTokenizer.from_pretrained('distilbert-base-uncased')"
   ]
  },
  {
   "cell_type": "code",
   "execution_count": 11,
   "metadata": {},
   "outputs": [],
   "source": [
    "# Tokenize training data\n",
    "input_ids = []\n",
    "attention_masks = []\n",
    "\n",
    "for sent in X_train:\n",
    "    dbert_inps = dbert_tokenizer.encode_plus(sent,add_special_tokens = True, max_length = max_len, padding = 'max_length', return_attention_mask = True, truncation=True)\n",
    "    input_ids.append(dbert_inps['input_ids'])\n",
    "    attention_masks.append(dbert_inps['attention_mask'])\n",
    "\n",
    "train_input_ids = np.asarray(input_ids)\n",
    "train_attention_masks = np.array(attention_masks)\n",
    "y_train = np.array(y_train)"
   ]
  },
  {
   "cell_type": "code",
   "execution_count": 12,
   "metadata": {},
   "outputs": [],
   "source": [
    "# Tokenize test data\n",
    "test_input_ids = []\n",
    "test_attention_masks = []\n",
    "\n",
    "for sent in X_test:\n",
    "    dbert_inps = dbert_tokenizer.encode_plus(sent, add_special_tokens = True, max_length = max_len, padding = 'max_length', return_attention_mask = True,truncation=True)\n",
    "    test_input_ids.append(dbert_inps['input_ids'])\n",
    "    test_attention_masks.append(dbert_inps['attention_mask'])\n",
    "\n",
    "test_input_ids = np.asarray(test_input_ids)\n",
    "test_attention_masks = np.array(test_attention_masks)\n",
    "y_test = np.array(y_test)"
   ]
  },
  {
   "cell_type": "markdown",
   "metadata": {},
   "source": [
    "### Example of tokenization of the random sentence"
   ]
  },
  {
   "cell_type": "code",
   "execution_count": 13,
   "metadata": {},
   "outputs": [
    {
     "data": {
      "text/plain": [
       "'non opec nations output purnomo jakarta reuters non opec oil exporters consider increasing output cool record crude prices opec president purnomo yusgiantoro said sunday'"
      ]
     },
     "execution_count": 13,
     "metadata": {},
     "output_type": "execute_result"
    }
   ],
   "source": [
    "X_train[12]"
   ]
  },
  {
   "cell_type": "code",
   "execution_count": 14,
   "metadata": {},
   "outputs": [
    {
     "data": {
      "text/plain": [
       "['non',\n",
       " 'op',\n",
       " '##ec',\n",
       " 'nations',\n",
       " 'output',\n",
       " 'pu',\n",
       " '##rno',\n",
       " '##mo',\n",
       " 'jakarta',\n",
       " 'reuters',\n",
       " 'non',\n",
       " 'op',\n",
       " '##ec',\n",
       " 'oil',\n",
       " 'export',\n",
       " '##ers',\n",
       " 'consider',\n",
       " 'increasing',\n",
       " 'output',\n",
       " 'cool',\n",
       " 'record',\n",
       " 'crude',\n",
       " 'prices',\n",
       " 'op',\n",
       " '##ec',\n",
       " 'president',\n",
       " 'pu',\n",
       " '##rno',\n",
       " '##mo',\n",
       " 'yu',\n",
       " '##sg',\n",
       " '##ian',\n",
       " '##tor',\n",
       " '##o',\n",
       " 'said',\n",
       " 'sunday']"
      ]
     },
     "execution_count": 14,
     "metadata": {},
     "output_type": "execute_result"
    }
   ],
   "source": [
    "dbert_tokenizer.tokenize(X_train[12])"
   ]
  },
  {
   "cell_type": "code",
   "execution_count": 15,
   "metadata": {},
   "outputs": [
    {
     "name": "stderr",
     "output_type": "stream",
     "text": [
      "/Users/joostfranssen/tensorflow-test/env/lib/python3.8/site-packages/transformers/tokenization_utils_base.py:2271: FutureWarning: The `pad_to_max_length` argument is deprecated and will be removed in a future version, use `padding=True` or `padding='longest'` to pad to the longest sequence in the batch, or use `padding='max_length'` to pad to a max length. In this case, you can give a specific length with `max_length` (e.g. `max_length=45`) or leave max_length to None to pad to the maximal input size of the model (e.g. 512 for Bert).\n",
      "  warnings.warn(\n"
     ]
    }
   ],
   "source": [
    "dbert_inp=dbert_tokenizer.encode_plus(X_train[12],add_special_tokens=True, max_length=max_len,pad_to_max_length = True,truncation=True)"
   ]
  },
  {
   "cell_type": "code",
   "execution_count": 16,
   "metadata": {},
   "outputs": [
    {
     "data": {
      "text/plain": [
       "[101,\n",
       " 2512,\n",
       " 6728,\n",
       " 8586,\n",
       " 3741,\n",
       " 6434,\n",
       " 16405,\n",
       " 19139,\n",
       " 5302,\n",
       " 14426,\n",
       " 26665,\n",
       " 2512,\n",
       " 6728,\n",
       " 8586,\n",
       " 3514,\n",
       " 9167,\n",
       " 2545,\n",
       " 5136,\n",
       " 4852,\n",
       " 6434,\n",
       " 4658,\n",
       " 2501,\n",
       " 13587,\n",
       " 7597,\n",
       " 102]"
      ]
     },
     "execution_count": 16,
     "metadata": {},
     "output_type": "execute_result"
    }
   ],
   "source": [
    "dbert_inp['input_ids']"
   ]
  },
  {
   "cell_type": "code",
   "execution_count": 17,
   "metadata": {},
   "outputs": [
    {
     "data": {
      "text/plain": [
       "[1, 1, 1, 1, 1, 1, 1, 1, 1, 1, 1, 1, 1, 1, 1, 1, 1, 1, 1, 1, 1, 1, 1, 1, 1]"
      ]
     },
     "execution_count": 17,
     "metadata": {},
     "output_type": "execute_result"
    }
   ],
   "source": [
    "dbert_inp['attention_mask']"
   ]
  },
  {
   "cell_type": "markdown",
   "metadata": {},
   "source": [
    "# Optimize pretrained distilbert model"
   ]
  },
  {
   "cell_type": "code",
   "execution_count": 18,
   "metadata": {},
   "outputs": [],
   "source": [
    "# Function to create keras model with distilbert model, to train and generate output\n",
    "def create_model_pretrained():\n",
    "    inps = Input(shape = (max_len,), dtype='int64')\n",
    "    masks = Input(shape = (max_len,), dtype='int64')\n",
    "    dbert_model_pretrained = TFDistilBertModel.from_pretrained('distilbert-base-uncased')\n",
    "    dbert_layer = dbert_model_pretrained(inps, attention_mask=masks)[0][:,0,:]\n",
    "    pred = Dense(num_classes, activation='softmax', kernel_regularizer=regularizers.l2(0.01)) (dbert_layer)   #(dropout)\n",
    "    model = tf.keras.Model(inputs=[inps,masks], outputs=pred)\n",
    "    return model"
   ]
  },
  {
   "cell_type": "code",
   "execution_count": 19,
   "metadata": {},
   "outputs": [
    {
     "name": "stdout",
     "output_type": "stream",
     "text": [
      "Metal device set to: Apple M1 Pro\n"
     ]
    },
    {
     "name": "stderr",
     "output_type": "stream",
     "text": [
      "2022-03-28 18:25:19.828364: I tensorflow/core/common_runtime/pluggable_device/pluggable_device_factory.cc:305] Could not identify NUMA node of platform GPU ID 0, defaulting to 0. Your kernel may not have been built with NUMA support.\n",
      "2022-03-28 18:25:19.828656: I tensorflow/core/common_runtime/pluggable_device/pluggable_device_factory.cc:271] Created TensorFlow device (/job:localhost/replica:0/task:0/device:GPU:0 with 0 MB memory) -> physical PluggableDevice (device: 0, name: METAL, pci bus id: <undefined>)\n",
      "2022-03-28 18:25:19.849641: W tensorflow/python/util/util.cc:368] Sets are not currently considered sequences, but this may change in the future, so consider avoiding using them.\n",
      "Some layers from the model checkpoint at distilbert-base-uncased were not used when initializing TFDistilBertModel: ['vocab_projector', 'vocab_transform', 'activation_13', 'vocab_layer_norm']\n",
      "- This IS expected if you are initializing TFDistilBertModel from the checkpoint of a model trained on another task or with another architecture (e.g. initializing a BertForSequenceClassification model from a BertForPreTraining model).\n",
      "- This IS NOT expected if you are initializing TFDistilBertModel from the checkpoint of a model that you expect to be exactly identical (initializing a BertForSequenceClassification model from a BertForSequenceClassification model).\n",
      "All the layers of TFDistilBertModel were initialized from the model checkpoint at distilbert-base-uncased.\n",
      "If your task is similar to the task the model of the checkpoint was trained on, you can already use TFDistilBertModel for predictions without further training.\n"
     ]
    }
   ],
   "source": [
    "pretrained_model = create_model_pretrained()"
   ]
  },
  {
   "cell_type": "code",
   "execution_count": 28,
   "metadata": {},
   "outputs": [
    {
     "name": "stderr",
     "output_type": "stream",
     "text": [
      "2022-03-28 16:00:45.792005: I tensorflow/core/grappler/optimizers/custom_graph_optimizer_registry.cc:113] Plugin optimizer for device_type GPU is enabled.\n"
     ]
    },
    {
     "name": "stdout",
     "output_type": "stream",
     "text": [
      "Accuracy pretrained model before optimizing: 0.24921052631578947\n"
     ]
    }
   ],
   "source": [
    "# Accuracy of pretrained model, before any further training\n",
    "preds0 = pretrained_model.predict([test_input_ids, test_attention_masks], batch_size=32)\n",
    "pred_labels0 = np.argmax(preds0, axis=1)\n",
    "acc_pretrained0 = accuracy_score(y_test, pred_labels0)\n",
    "print(f'Accuracy pretrained model before optimizing: {acc_pretrained0}')"
   ]
  },
  {
   "cell_type": "code",
   "execution_count": 28,
   "metadata": {},
   "outputs": [
    {
     "name": "stdout",
     "output_type": "stream",
     "text": [
      "Train shape (96000, 25) Val input shape (24000, 25)\n",
      "Train label shape (96000,) Val label shape (24000,)\n",
      "Train attention mask shape (96000, 25) Val attention mask shape (24000, 25)\n",
      "Training for optimizer: rmsprop\n"
     ]
    },
    {
     "name": "stderr",
     "output_type": "stream",
     "text": [
      "Some layers from the model checkpoint at distilbert-base-uncased were not used when initializing TFDistilBertModel: ['vocab_projector', 'vocab_transform', 'activation_13', 'vocab_layer_norm']\n",
      "- This IS expected if you are initializing TFDistilBertModel from the checkpoint of a model trained on another task or with another architecture (e.g. initializing a BertForSequenceClassification model from a BertForPreTraining model).\n",
      "- This IS NOT expected if you are initializing TFDistilBertModel from the checkpoint of a model that you expect to be exactly identical (initializing a BertForSequenceClassification model from a BertForSequenceClassification model).\n",
      "All the layers of TFDistilBertModel were initialized from the model checkpoint at distilbert-base-uncased.\n",
      "If your task is similar to the task the model of the checkpoint was trained on, you can already use TFDistilBertModel for predictions without further training.\n"
     ]
    },
    {
     "name": "stdout",
     "output_type": "stream",
     "text": [
      "Epoch 1/10\n"
     ]
    },
    {
     "name": "stderr",
     "output_type": "stream",
     "text": [
      "2022-03-28 18:42:50.390190: I tensorflow/core/grappler/optimizers/custom_graph_optimizer_registry.cc:113] Plugin optimizer for device_type GPU is enabled.\n"
     ]
    },
    {
     "name": "stdout",
     "output_type": "stream",
     "text": [
      "3000/3000 [==============================] - ETA: 0s - loss: 0.3645 - accuracy: 0.9007"
     ]
    },
    {
     "name": "stderr",
     "output_type": "stream",
     "text": [
      "2022-03-28 18:49:52.653609: I tensorflow/core/grappler/optimizers/custom_graph_optimizer_registry.cc:113] Plugin optimizer for device_type GPU is enabled.\n"
     ]
    },
    {
     "name": "stdout",
     "output_type": "stream",
     "text": [
      "3000/3000 [==============================] - 451s 148ms/step - loss: 0.3645 - accuracy: 0.9007 - val_loss: 0.3056 - val_accuracy: 0.9224\n",
      "Epoch 2/10\n",
      "3000/3000 [==============================] - 444s 148ms/step - loss: 0.2818 - accuracy: 0.9271 - val_loss: 0.2967 - val_accuracy: 0.9236\n",
      "Epoch 3/10\n",
      "3000/3000 [==============================] - 442s 147ms/step - loss: 0.2325 - accuracy: 0.9414 - val_loss: 0.2825 - val_accuracy: 0.9252\n",
      "Epoch 4/10\n",
      "3000/3000 [==============================] - 443s 148ms/step - loss: 0.1905 - accuracy: 0.9529 - val_loss: 0.3061 - val_accuracy: 0.9269\n",
      "Epoch 5/10\n",
      "3000/3000 [==============================] - 444s 148ms/step - loss: 0.1533 - accuracy: 0.9632 - val_loss: 0.3501 - val_accuracy: 0.9266\n",
      "Epoch 6/10\n",
      "3000/3000 [==============================] - 443s 148ms/step - loss: 0.1206 - accuracy: 0.9724 - val_loss: 0.3562 - val_accuracy: 0.9220\n",
      "Epoch 7/10\n",
      "3000/3000 [==============================] - 442s 147ms/step - loss: 0.0977 - accuracy: 0.9787 - val_loss: 0.4184 - val_accuracy: 0.9243\n",
      "Epoch 8/10\n",
      "3000/3000 [==============================] - 445s 148ms/step - loss: 0.0782 - accuracy: 0.9836 - val_loss: 0.4103 - val_accuracy: 0.9223\n",
      "Epoch 9/10\n",
      "3000/3000 [==============================] - 442s 147ms/step - loss: 0.0648 - accuracy: 0.9867 - val_loss: 0.4412 - val_accuracy: 0.9245\n",
      "Epoch 10/10\n",
      "3000/3000 [==============================] - 444s 148ms/step - loss: 0.0531 - accuracy: 0.9896 - val_loss: 0.4424 - val_accuracy: 0.9233\n",
      "[[0.922416627407074, 0.9236249923706055, 0.925166666507721, 0.9269166588783264, 0.9265833497047424, 0.921958327293396, 0.9242916703224182, 0.92229163646698, 0.9245416522026062, 0.9232500195503235]]\n"
     ]
    }
   ],
   "source": [
    "# Grid search to find best optimizer\n",
    "\n",
    "train_inp, val_inp, train_label, val_label, train_mask, val_mask = train_test_split(train_input_ids, y_train, train_attention_masks, test_size=0.2, random_state=0)\n",
    "print('Train shape {} Val input shape {}\\nTrain label shape {} Val label shape {}\\nTrain attention mask shape {} Val attention mask shape {}'.format(train_inp.shape,val_inp.shape,train_label.shape,val_label.shape,train_mask.shape,val_mask.shape))\n",
    "\n",
    "lr = 1e-5\n",
    "optimizers = [tf.keras.optimizers.Adam(learning_rate=lr), tf.keras.optimizers.SGD(learning_rate=lr), tf.keras.optimizers.RMSprop(learning_rate=lr)]\n",
    "optimizer_names = ['adam', 'sgd', 'rmsprop']\n",
    "\n",
    "models = []\n",
    "val_accs = []\n",
    "losses = []\n",
    "for optimizer, optimizer_name in zip(optimizers, optimizer_names):\n",
    "    print('Training for optimizer: ' + optimizer_name)\n",
    "    log_dir='dbert_model_pretrained_' + optimizer_name\n",
    "    model_save_path='./dbert_model_pretrained_' + optimizer_name + '.h5'\n",
    "    callbacks = [tf.keras.callbacks.ModelCheckpoint(filepath = model_save_path, save_weights_only=True, monitor='val_loss', mode='min', save_best_only=True),keras.callbacks.TensorBoard(log_dir=log_dir)]\n",
    "    \n",
    "    pretrained_model = create_model_pretrained()\n",
    "    metric = tf.keras.metrics.SparseCategoricalAccuracy('accuracy')\n",
    "    loss = tf.keras.losses.SparseCategoricalCrossentropy()\n",
    "    pretrained_model.compile(loss=loss, optimizer=optimizer, metrics=[metric])\n",
    "    history = pretrained_model.fit([train_inp,train_mask], train_label, batch_size=32, epochs=10, validation_data=([val_inp,val_mask],val_label), callbacks=callbacks)\n",
    "\n",
    "    models.append((pretrained_model, history))\n",
    "    val_accs.append(history.history['val_accuracy'])\n",
    "    losses.append(history.history['val_loss'])\n",
    "\n",
    "print(val_accs)\n",
    "best_model_pretrained, best_history_pretrained = models[val_accs.index(max(val_accs))]"
   ]
  },
  {
   "cell_type": "code",
   "execution_count": 29,
   "metadata": {},
   "outputs": [
    {
     "data": {
      "image/png": "[encoded data removed]",
      "text/plain": [
       "<Figure size 432x288 with 1 Axes>"
      ]
     },
     "metadata": {
      "needs_background": "light"
     },
     "output_type": "display_data"
    },
    {
     "data": {
      "image/png": "[encoded data removed]",
      "text/plain": [
       "<Figure size 432x288 with 1 Axes>"
      ]
     },
     "metadata": {
      "needs_background": "light"
     },
     "output_type": "display_data"
    }
   ],
   "source": [
    "# Plot training accuracy and loss of model with best validation accuracy\n",
    "plt.plot(best_history_pretrained.history['accuracy'])\n",
    "plt.title('Training accuracy pre-trained model')\n",
    "plt.ylabel('Accuracy')\n",
    "plt.xlabel('Epoch')\n",
    "plt.show()\n",
    "\n",
    "plt.plot(best_history_pretrained.history['loss'])\n",
    "plt.title('Loss pre-trained model')\n",
    "plt.ylabel('loss')\n",
    "plt.xlabel('Epoch')\n",
    "plt.show()"
   ]
  },
  {
   "cell_type": "code",
   "execution_count": 30,
   "metadata": {},
   "outputs": [
    {
     "name": "stderr",
     "output_type": "stream",
     "text": [
      "Some layers from the model checkpoint at distilbert-base-uncased were not used when initializing TFDistilBertModel: ['vocab_projector', 'vocab_transform', 'activation_13', 'vocab_layer_norm']\n",
      "- This IS expected if you are initializing TFDistilBertModel from the checkpoint of a model trained on another task or with another architecture (e.g. initializing a BertForSequenceClassification model from a BertForPreTraining model).\n",
      "- This IS NOT expected if you are initializing TFDistilBertModel from the checkpoint of a model that you expect to be exactly identical (initializing a BertForSequenceClassification model from a BertForSequenceClassification model).\n",
      "All the layers of TFDistilBertModel were initialized from the model checkpoint at distilbert-base-uncased.\n",
      "If your task is similar to the task the model of the checkpoint was trained on, you can already use TFDistilBertModel for predictions without further training.\n"
     ]
    }
   ],
   "source": [
    "# Load weights from saved optimized pretrained model\n",
    "optimized_pretrained_model = create_model_pretrained()\n",
    "optimized_pretrained_model.compile(loss=loss,optimizer=optimizer, metrics=[metric])\n",
    "optimized_pretrained_model.load_weights('./dbert_model_pretrained_rmsprop.h5') "
   ]
  },
  {
   "cell_type": "markdown",
   "metadata": {},
   "source": [
    " "
   ]
  },
  {
   "cell_type": "markdown",
   "metadata": {},
   "source": [
    "# Testing the pre-trained model"
   ]
  },
  {
   "cell_type": "code",
   "execution_count": 31,
   "metadata": {},
   "outputs": [
    {
     "name": "stderr",
     "output_type": "stream",
     "text": [
      "2022-03-28 19:58:26.508407: I tensorflow/core/grappler/optimizers/custom_graph_optimizer_registry.cc:113] Plugin optimizer for device_type GPU is enabled.\n"
     ]
    }
   ],
   "source": [
    "# Create predictions using the test data\n",
    "preds = optimized_pretrained_model.predict([test_input_ids, test_attention_masks], batch_size=32)\n",
    "pred_labels = np.argmax(preds, axis=1)"
   ]
  },
  {
   "cell_type": "code",
   "execution_count": 32,
   "metadata": {},
   "outputs": [
    {
     "name": "stdout",
     "output_type": "stream",
     "text": [
      "Accuracy pretrained model after optimizing: 0.9213157894736842\n",
      "F1-score pretrained model after optimizing: 0.921376774362968\n"
     ]
    }
   ],
   "source": [
    "acc_pretrained = accuracy_score(y_test, pred_labels)\n",
    "f1_pretrained = f1_score(y_test, pred_labels, average='macro')\n",
    "print(f'Accuracy pretrained model after optimizing: {acc_pretrained}')\n",
    "print(f'F1-score pretrained model after optimizing: {f1_pretrained}')"
   ]
  },
  {
   "cell_type": "code",
   "execution_count": 33,
   "metadata": {},
   "outputs": [
    {
     "name": "stdout",
     "output_type": "stream",
     "text": [
      "Classification Report:\n",
      "              precision    recall  f1-score   support\n",
      "\n",
      "       world       0.94      0.91      0.92      1900\n",
      "      sports       0.97      0.98      0.97      1900\n",
      "    business       0.88      0.90      0.89      1900\n",
      "     science       0.90      0.89      0.90      1900\n",
      "\n",
      "    accuracy                           0.92      7600\n",
      "   macro avg       0.92      0.92      0.92      7600\n",
      "weighted avg       0.92      0.92      0.92      7600\n",
      "\n"
     ]
    }
   ],
   "source": [
    "target_names = ['world', 'sports', 'business', 'science']\n",
    "print('Classification Report:')\n",
    "print(classification_report(y_test, pred_labels, target_names=target_names)) "
   ]
  },
  {
   "cell_type": "code",
   "execution_count": 34,
   "metadata": {},
   "outputs": [
    {
     "data": {
      "image/png": "[encoded data removed]",
      "text/plain": [
       "<Figure size 432x288 with 2 Axes>"
      ]
     },
     "metadata": {
      "needs_background": "light"
     },
     "output_type": "display_data"
    }
   ],
   "source": [
    "# Confusion matrix\n",
    "cm_pretrained = confusion_matrix(y_test, pred_labels)\n",
    "disp = ConfusionMatrixDisplay(confusion_matrix=cm_pretrained, display_labels=target_names)\n",
    "disp.plot()\n",
    "plt.show()"
   ]
  },
  {
   "cell_type": "markdown",
   "metadata": {},
   "source": [
    "# Training from scratch\n"
   ]
  },
  {
   "cell_type": "code",
   "execution_count": 35,
   "metadata": {},
   "outputs": [],
   "source": [
    "# Function to create keras model with distilbert model, to train and generate output\n",
    "def create_model_untrained():\n",
    "    inps = Input(shape = (max_len,), dtype='int64')\n",
    "    masks = Input(shape = (max_len,), dtype='int64')\n",
    "    config = DistilBertConfig()\n",
    "    dbert_model_untrained = TFDistilBertModel(config)\n",
    "    dbert_layer = dbert_model_untrained(inps, attention_mask=masks)[0][:,0,:]\n",
    "    pred = Dense(num_classes, activation='softmax',kernel_regularizer=regularizers.l2(0.01)) (dbert_layer)   #(dropout)\n",
    "    model = tf.keras.Model(inputs=[inps,masks], outputs=pred)\n",
    "    return model"
   ]
  },
  {
   "cell_type": "code",
   "execution_count": 36,
   "metadata": {},
   "outputs": [],
   "source": [
    "scratch_model = create_model_untrained()"
   ]
  },
  {
   "cell_type": "code",
   "execution_count": 37,
   "metadata": {},
   "outputs": [
    {
     "name": "stderr",
     "output_type": "stream",
     "text": [
      "2022-03-28 19:59:03.575717: I tensorflow/core/grappler/optimizers/custom_graph_optimizer_registry.cc:113] Plugin optimizer for device_type GPU is enabled.\n"
     ]
    },
    {
     "name": "stdout",
     "output_type": "stream",
     "text": [
      "Accuracy scratch model before training: 0.25\n"
     ]
    }
   ],
   "source": [
    "# Accuracy of scratch model, before any further training\n",
    "preds_scratch0 = scratch_model.predict([test_input_ids, test_attention_masks], batch_size=32)\n",
    "pred_labels_scratch0 = np.argmax(preds_scratch0, axis=1)\n",
    "acc_pretrained_scratch0 = accuracy_score(y_test, pred_labels_scratch0)\n",
    "print(f'Accuracy scratch model before training: {acc_pretrained_scratch0}')"
   ]
  },
  {
   "cell_type": "code",
   "execution_count": 38,
   "metadata": {},
   "outputs": [
    {
     "name": "stdout",
     "output_type": "stream",
     "text": [
      "Train shape (96000, 25) Val input shape (24000, 25)\n",
      "Train label shape (96000,) Val label shape (24000,)\n",
      "Train attention mask shape (96000, 25) Val attention mask shape (24000, 25)\n",
      "Training for optimizer: adam\n",
      "Epoch 1/10\n"
     ]
    },
    {
     "name": "stderr",
     "output_type": "stream",
     "text": [
      "2022-03-28 19:59:21.987859: I tensorflow/core/grappler/optimizers/custom_graph_optimizer_registry.cc:113] Plugin optimizer for device_type GPU is enabled.\n"
     ]
    },
    {
     "name": "stdout",
     "output_type": "stream",
     "text": [
      "3000/3000 [==============================] - ETA: 0s - loss: 0.5805 - accuracy: 0.8161"
     ]
    },
    {
     "name": "stderr",
     "output_type": "stream",
     "text": [
      "2022-03-28 20:06:20.973639: I tensorflow/core/grappler/optimizers/custom_graph_optimizer_registry.cc:113] Plugin optimizer for device_type GPU is enabled.\n"
     ]
    },
    {
     "name": "stdout",
     "output_type": "stream",
     "text": [
      "3000/3000 [==============================] - 448s 147ms/step - loss: 0.5805 - accuracy: 0.8161 - val_loss: 0.4041 - val_accuracy: 0.8910\n",
      "Epoch 2/10\n",
      "3000/3000 [==============================] - 439s 146ms/step - loss: 0.3572 - accuracy: 0.9042 - val_loss: 0.3742 - val_accuracy: 0.8975\n",
      "Epoch 3/10\n",
      "3000/3000 [==============================] - 439s 146ms/step - loss: 0.2966 - accuracy: 0.9216 - val_loss: 0.3597 - val_accuracy: 0.9045\n",
      "Epoch 4/10\n",
      "3000/3000 [==============================] - 439s 146ms/step - loss: 0.2566 - accuracy: 0.9336 - val_loss: 0.3694 - val_accuracy: 0.9025\n",
      "Epoch 5/10\n",
      "3000/3000 [==============================] - 437s 146ms/step - loss: 0.2238 - accuracy: 0.9418 - val_loss: 0.3814 - val_accuracy: 0.8999\n",
      "Epoch 6/10\n",
      "3000/3000 [==============================] - 436s 145ms/step - loss: 0.1972 - accuracy: 0.9485 - val_loss: 0.3952 - val_accuracy: 0.8993\n",
      "Epoch 7/10\n",
      "3000/3000 [==============================] - 436s 145ms/step - loss: 0.1697 - accuracy: 0.9557 - val_loss: 0.4265 - val_accuracy: 0.8974\n",
      "Epoch 8/10\n",
      "3000/3000 [==============================] - 441s 147ms/step - loss: 0.1478 - accuracy: 0.9624 - val_loss: 0.4701 - val_accuracy: 0.8942\n",
      "Epoch 9/10\n",
      "3000/3000 [==============================] - 438s 146ms/step - loss: 0.1268 - accuracy: 0.9682 - val_loss: 0.5402 - val_accuracy: 0.8938\n",
      "Epoch 10/10\n",
      "3000/3000 [==============================] - 436s 145ms/step - loss: 0.1078 - accuracy: 0.9740 - val_loss: 0.5813 - val_accuracy: 0.8881\n",
      "Training for optimizer: sgd\n",
      "Epoch 1/10\n"
     ]
    },
    {
     "name": "stderr",
     "output_type": "stream",
     "text": [
      "2022-03-28 21:12:31.850516: I tensorflow/core/grappler/optimizers/custom_graph_optimizer_registry.cc:113] Plugin optimizer for device_type GPU is enabled.\n"
     ]
    },
    {
     "name": "stdout",
     "output_type": "stream",
     "text": [
      "3000/3000 [==============================] - ETA: 0s - loss: 1.5292 - accuracy: 0.2550"
     ]
    },
    {
     "name": "stderr",
     "output_type": "stream",
     "text": [
      "2022-03-28 21:18:02.764186: I tensorflow/core/grappler/optimizers/custom_graph_optimizer_registry.cc:113] Plugin optimizer for device_type GPU is enabled.\n"
     ]
    },
    {
     "name": "stdout",
     "output_type": "stream",
     "text": [
      "3000/3000 [==============================] - 360s 118ms/step - loss: 1.5292 - accuracy: 0.2550 - val_loss: 1.4664 - val_accuracy: 0.2694\n",
      "Epoch 2/10\n",
      "3000/3000 [==============================] - 352s 117ms/step - loss: 1.4778 - accuracy: 0.2764 - val_loss: 1.4567 - val_accuracy: 0.2955\n",
      "Epoch 3/10\n",
      "3000/3000 [==============================] - 352s 117ms/step - loss: 1.4589 - accuracy: 0.2961 - val_loss: 1.4470 - val_accuracy: 0.3235\n",
      "Epoch 4/10\n",
      "3000/3000 [==============================] - 351s 117ms/step - loss: 1.4458 - accuracy: 0.3260 - val_loss: 1.4410 - val_accuracy: 0.3182\n",
      "Epoch 5/10\n",
      "3000/3000 [==============================] - 352s 117ms/step - loss: 1.4361 - accuracy: 0.3496 - val_loss: 1.4284 - val_accuracy: 0.3689\n",
      "Epoch 6/10\n",
      "3000/3000 [==============================] - 351s 117ms/step - loss: 1.4271 - accuracy: 0.3736 - val_loss: 1.4179 - val_accuracy: 0.4028\n",
      "Epoch 7/10\n",
      "3000/3000 [==============================] - 351s 117ms/step - loss: 1.4185 - accuracy: 0.3950 - val_loss: 1.4093 - val_accuracy: 0.4193\n",
      "Epoch 8/10\n",
      "3000/3000 [==============================] - 351s 117ms/step - loss: 1.4094 - accuracy: 0.4158 - val_loss: 1.4015 - val_accuracy: 0.4262\n",
      "Epoch 9/10\n",
      "3000/3000 [==============================] - 352s 117ms/step - loss: 1.4008 - accuracy: 0.4342 - val_loss: 1.3936 - val_accuracy: 0.4199\n",
      "Epoch 10/10\n",
      "3000/3000 [==============================] - 353s 118ms/step - loss: 1.3920 - accuracy: 0.4530 - val_loss: 1.3808 - val_accuracy: 0.4740\n",
      "Training for optimizer: rmsprop\n",
      "Epoch 1/10\n"
     ]
    },
    {
     "name": "stderr",
     "output_type": "stream",
     "text": [
      "2022-03-28 22:11:19.198890: I tensorflow/core/grappler/optimizers/custom_graph_optimizer_registry.cc:113] Plugin optimizer for device_type GPU is enabled.\n"
     ]
    },
    {
     "name": "stdout",
     "output_type": "stream",
     "text": [
      "3000/3000 [==============================] - ETA: 0s - loss: 0.6607 - accuracy: 0.7798"
     ]
    },
    {
     "name": "stderr",
     "output_type": "stream",
     "text": [
      "2022-03-28 22:18:34.844175: I tensorflow/core/grappler/optimizers/custom_graph_optimizer_registry.cc:113] Plugin optimizer for device_type GPU is enabled.\n"
     ]
    },
    {
     "name": "stdout",
     "output_type": "stream",
     "text": [
      "3000/3000 [==============================] - 466s 150ms/step - loss: 0.6607 - accuracy: 0.7798 - val_loss: 0.4471 - val_accuracy: 0.8775\n",
      "Epoch 2/10\n",
      "3000/3000 [==============================] - 443s 148ms/step - loss: 0.3982 - accuracy: 0.8904 - val_loss: 0.3749 - val_accuracy: 0.8996\n",
      "Epoch 3/10\n",
      "3000/3000 [==============================] - 444s 148ms/step - loss: 0.3544 - accuracy: 0.9029 - val_loss: 0.3723 - val_accuracy: 0.9005\n",
      "Epoch 4/10\n",
      "3000/3000 [==============================] - 446s 149ms/step - loss: 0.3320 - accuracy: 0.9089 - val_loss: 0.3476 - val_accuracy: 0.9042\n",
      "Epoch 5/10\n",
      "3000/3000 [==============================] - 444s 148ms/step - loss: 0.3111 - accuracy: 0.9143 - val_loss: 0.3431 - val_accuracy: 0.9020\n",
      "Epoch 6/10\n",
      "3000/3000 [==============================] - 443s 148ms/step - loss: 0.2882 - accuracy: 0.9207 - val_loss: 0.3473 - val_accuracy: 0.9052\n",
      "Epoch 7/10\n",
      "3000/3000 [==============================] - 443s 147ms/step - loss: 0.2626 - accuracy: 0.9273 - val_loss: 0.3685 - val_accuracy: 0.9001\n",
      "Epoch 8/10\n",
      "3000/3000 [==============================] - 443s 148ms/step - loss: 0.2356 - accuracy: 0.9350 - val_loss: 0.3387 - val_accuracy: 0.9042\n",
      "Epoch 9/10\n",
      "3000/3000 [==============================] - 443s 148ms/step - loss: 0.2100 - accuracy: 0.9424 - val_loss: 0.3530 - val_accuracy: 0.9047\n",
      "Epoch 10/10\n",
      "3000/3000 [==============================] - 445s 148ms/step - loss: 0.1853 - accuracy: 0.9492 - val_loss: 0.4281 - val_accuracy: 0.8998\n",
      "[[0.890999972820282, 0.8974999785423279, 0.9045416712760925, 0.9025416374206543, 0.8998749852180481, 0.8992916345596313, 0.8973749876022339, 0.8942499756813049, 0.893750011920929, 0.8880833387374878], [0.2694166600704193, 0.2955000102519989, 0.32354167103767395, 0.31820833683013916, 0.36887499690055847, 0.4027916491031647, 0.4193333387374878, 0.42624998092651367, 0.41987499594688416, 0.4739583134651184], [0.8775416612625122, 0.8996250033378601, 0.9005416631698608, 0.9042499661445618, 0.9019583463668823, 0.9052083492279053, 0.9001249670982361, 0.9042499661445618, 0.9047083258628845, 0.8998333215713501]]\n"
     ]
    }
   ],
   "source": [
    "# Grid search to find best optimizer for the model from scratch\n",
    "\n",
    "train_inp, val_inp, train_label, val_label, train_mask, val_mask = train_test_split(train_input_ids, y_train, train_attention_masks, test_size=0.2, random_state=0)\n",
    "print('Train shape {} Val input shape {}\\nTrain label shape {} Val label shape {}\\nTrain attention mask shape {} Val attention mask shape {}'.format(train_inp.shape,val_inp.shape,train_label.shape,val_label.shape,train_mask.shape,val_mask.shape))\n",
    "\n",
    "lr = 1e-5\n",
    "optimizers = [tf.keras.optimizers.Adam(learning_rate=lr), tf.keras.optimizers.SGD(learning_rate=lr), tf.keras.optimizers.RMSprop(learning_rate=lr)]\n",
    "optimizer_names = ['adam', 'sgd', 'rmsprop']\n",
    "\n",
    "models_scratch = []\n",
    "val_accs_scratch = []\n",
    "losses_scratch = []\n",
    "for optimizer, optimizer_name in zip(optimizers, optimizer_names):\n",
    "    print('Training for optimizer: ' + optimizer_name)\n",
    "    log_dir='dbert_model_scratch_' + optimizer_name\n",
    "    model_save_path='./dbert_scratch_scratch_' + optimizer_name + '.h5'\n",
    "    callbacks = [tf.keras.callbacks.ModelCheckpoint(filepath = model_save_path, save_weights_only=True, monitor='val_loss', mode='min', save_best_only=True),keras.callbacks.TensorBoard(log_dir=log_dir)]\n",
    "    \n",
    "    scratch_model = create_model_untrained()\n",
    "    metric = tf.keras.metrics.SparseCategoricalAccuracy('accuracy')\n",
    "    loss = tf.keras.losses.SparseCategoricalCrossentropy()\n",
    "    scratch_model.compile(loss=loss, optimizer=optimizer, metrics=[metric])\n",
    "    history = scratch_model.fit([train_inp,train_mask], train_label, batch_size=32, epochs=10, validation_data=([val_inp,val_mask],val_label), callbacks=callbacks)\n",
    "\n",
    "    models_scratch.append((scratch_model, history))\n",
    "    val_accs_scratch.append(history.history['val_accuracy'])\n",
    "    losses_scratch.append(history.history['val_loss'])\n",
    "\n",
    "print(val_accs_scratch)\n",
    "best_model_scratch, best_history_scratch = models_scratch[val_accs_scratch.index(max(val_accs_scratch))]"
   ]
  },
  {
   "cell_type": "code",
   "execution_count": 39,
   "metadata": {},
   "outputs": [
    {
     "data": {
      "image/png": "[encoded data removed]",
      "text/plain": [
       "<Figure size 432x288 with 1 Axes>"
      ]
     },
     "metadata": {
      "needs_background": "light"
     },
     "output_type": "display_data"
    },
    {
     "data": {
      "image/png": "[encoded data removed]",
      "text/plain": [
       "<Figure size 432x288 with 1 Axes>"
      ]
     },
     "metadata": {
      "needs_background": "light"
     },
     "output_type": "display_data"
    }
   ],
   "source": [
    "# Plot training accuracy and loss of model with best validation accuracy\n",
    "plt.plot(best_history_scratch.history['accuracy'])\n",
    "plt.title('Training accuracy pre-trained model')\n",
    "plt.ylabel('Accuracy')\n",
    "plt.xlabel('Epoch')\n",
    "plt.show()\n",
    "\n",
    "plt.plot(best_history_scratch.history['loss'])\n",
    "plt.title('Loss pre-trained model')\n",
    "plt.ylabel('loss')\n",
    "plt.xlabel('Epoch')\n",
    "plt.show()"
   ]
  },
  {
   "cell_type": "code",
   "execution_count": 40,
   "metadata": {},
   "outputs": [],
   "source": [
    "# Load weights from saved trained model from scratch\n",
    "scratch_trained_model = create_model_untrained()\n",
    "scratch_trained_model.compile(loss=loss,optimizer=optimizer, metrics=[metric])\n",
    "scratch_trained_model.load_weights('./dbert_scratch_scratch_rmsprop.h5')"
   ]
  },
  {
   "cell_type": "markdown",
   "metadata": {},
   "source": [
    "# Testing the scratch model"
   ]
  },
  {
   "cell_type": "code",
   "execution_count": 41,
   "metadata": {},
   "outputs": [
    {
     "name": "stderr",
     "output_type": "stream",
     "text": [
      "2022-03-28 23:25:37.056968: I tensorflow/core/grappler/optimizers/custom_graph_optimizer_registry.cc:113] Plugin optimizer for device_type GPU is enabled.\n"
     ]
    }
   ],
   "source": [
    "# Create predictions using the test data\n",
    "preds_scratch = scratch_trained_model.predict([test_input_ids, test_attention_masks], batch_size=32)\n",
    "pred_labels_scratch = np.argmax(preds_scratch, axis=1)"
   ]
  },
  {
   "cell_type": "code",
   "execution_count": 42,
   "metadata": {},
   "outputs": [
    {
     "name": "stdout",
     "output_type": "stream",
     "text": [
      "Accuracy scratch model after optimizing: 0.9017105263157895\n",
      "F1-score scratch model after optimizing: 0.9018747415322996\n"
     ]
    }
   ],
   "source": [
    "acc_scratch = accuracy_score(y_test, pred_labels_scratch)\n",
    "f1_scratch = f1_score(y_test, pred_labels_scratch, average='macro')\n",
    "print(f'Accuracy scratch model after optimizing: {acc_scratch}')\n",
    "print(f'F1-score scratch model after optimizing: {f1_scratch}')"
   ]
  },
  {
   "cell_type": "code",
   "execution_count": 43,
   "metadata": {},
   "outputs": [
    {
     "name": "stdout",
     "output_type": "stream",
     "text": [
      "Classification Report:\n",
      "              precision    recall  f1-score   support\n",
      "\n",
      "       world       0.93      0.89      0.91      1900\n",
      "      sports       0.95      0.96      0.96      1900\n",
      "    business       0.84      0.89      0.87      1900\n",
      "     science       0.89      0.87      0.88      1900\n",
      "\n",
      "    accuracy                           0.90      7600\n",
      "   macro avg       0.90      0.90      0.90      7600\n",
      "weighted avg       0.90      0.90      0.90      7600\n",
      "\n"
     ]
    }
   ],
   "source": [
    "# Classification report\n",
    "target_names = ['world', 'sports', 'business', 'science']\n",
    "print('Classification Report:')\n",
    "print(classification_report(y_test, pred_labels_scratch, target_names=target_names)) "
   ]
  },
  {
   "cell_type": "code",
   "execution_count": 44,
   "metadata": {},
   "outputs": [
    {
     "data": {
      "image/png": "[encoded data removed]",
      "text/plain": [
       "<Figure size 432x288 with 2 Axes>"
      ]
     },
     "metadata": {
      "needs_background": "light"
     },
     "output_type": "display_data"
    }
   ],
   "source": [
    "# Confusion matrix\n",
    "cm_scratch = confusion_matrix(y_test, pred_labels_scratch)\n",
    "disp_scratch = ConfusionMatrixDisplay(confusion_matrix=cm_scratch, display_labels=target_names)\n",
    "disp_scratch.plot()\n",
    "plt.show()"
   ]
  }
 ],
 "metadata": {
  "interpreter": {
   "hash": "19ffe857a2ab32f5ffd08fe3d367f83053230d937faf3a2e2967295e5b1b4b03"
  },
  "kernelspec": {
   "display_name": "Python 3 (ipykernel)",
   "language": "python",
   "name": "python3"
  },
  "language_info": {
   "codemirror_mode": {
    "name": "ipython",
    "version": 3
   },
   "file_extension": ".py",
   "mimetype": "text/x-python",
   "name": "python",
   "nbconvert_exporter": "python",
   "pygments_lexer": "ipython3",
   "version": "3.8.12"
  }
 },
 "nbformat": 4,
 "nbformat_minor": 2
}
